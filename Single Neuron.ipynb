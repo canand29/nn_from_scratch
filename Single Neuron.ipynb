{
  "cells": [
    {
      "cell_type": "markdown",
      "source": [
        "# Attempting Hardcoded Neurons"
      ],
      "metadata": {
        "id": "aRB9zPwLaKfG"
      },
      "id": "aRB9zPwLaKfG"
    },
    {
      "cell_type": "code",
      "execution_count": 8,
      "id": "e466e748-9dc9-4846-824b-7e6bf4a97bcf",
      "metadata": {
        "id": "e466e748-9dc9-4846-824b-7e6bf4a97bcf"
      },
      "outputs": [],
      "source": [
        "import matplotlib.pyplot as plt\n",
        "import numpy as np"
      ]
    },
    {
      "cell_type": "code",
      "execution_count": null,
      "id": "51be0f64",
      "metadata": {
        "id": "51be0f64"
      },
      "outputs": [],
      "source": [
        "inputs = [1,2,3]\n",
        "weights = [.2, .8, -.5]\n",
        "bias = 2"
      ]
    },
    {
      "cell_type": "code",
      "execution_count": null,
      "id": "13c08405",
      "metadata": {
        "id": "13c08405"
      },
      "outputs": [],
      "source": [
        "output = (inputs[0] * weights[0] +\n",
        "           inputs[1] * weights[1] +\n",
        "           inputs[2] * weights[2] + bias)"
      ]
    },
    {
      "cell_type": "code",
      "execution_count": null,
      "id": "39d900f1",
      "metadata": {
        "id": "39d900f1",
        "outputId": "65f800e3-7954-4b7a-b625-ca60b7bb713e"
      },
      "outputs": [
        {
          "name": "stdout",
          "output_type": "stream",
          "text": [
            "2.3\n"
          ]
        }
      ],
      "source": [
        "print(output)"
      ]
    },
    {
      "cell_type": "code",
      "execution_count": 1,
      "id": "b631629c",
      "metadata": {
        "id": "b631629c"
      },
      "outputs": [],
      "source": [
        "inputs = [1,2,3,2.5]\n",
        "weights = [[.2, .8, -.5, 1],\n",
        "           [.5, - .91, .26, -.5],\n",
        "           [-.26, -.27, .17, .87]]\n",
        "\n",
        "bias = [2, 3, 0.5]\n",
        "\n",
        "# Output of current layer\n",
        "layer_outputs = []\n",
        "# For each neuron\n",
        "for neuron_weights, neuron_bias in zip(weights, bias):\n",
        "    #ensuring output is zeroed\n",
        "    neuron_output = 0\n",
        "    for n_input, weight in zip(inputs, neuron_weights):\n",
        "        # Multiply input by weight and add to output\n",
        "        neuron_output += n_input * weight\n",
        "    # Add bias to output for neuron\n",
        "    neuron_output += neuron_bias\n",
        "    # Output neuron output\n",
        "    layer_outputs.append(neuron_output)"
      ]
    },
    {
      "cell_type": "code",
      "source": [
        "print (layer_outputs)"
      ],
      "metadata": {
        "colab": {
          "base_uri": "https://localhost:8080/"
        },
        "id": "ypJn7p4NauQy",
        "outputId": "ca62ac5a-28fc-474c-f119-81c87a83303f"
      },
      "id": "ypJn7p4NauQy",
      "execution_count": 2,
      "outputs": [
        {
          "output_type": "stream",
          "name": "stdout",
          "text": [
            "[4.8, 1.21, 2.385]\n"
          ]
        }
      ]
    },
    {
      "cell_type": "markdown",
      "source": [
        "What is a tensor: A tensor is an object that can be represented as an array but tensors are not **just** arrays"
      ],
      "metadata": {
        "id": "mBIeFNWZbNxU"
      },
      "id": "mBIeFNWZbNxU"
    },
    {
      "cell_type": "markdown",
      "source": [
        "What is a dot product:\n",
        "The sum of products of consecutive vector elements"
      ],
      "metadata": {
        "id": "Or8QXg3mbk6c"
      },
      "id": "Or8QXg3mbk6c"
    },
    {
      "cell_type": "code",
      "source": [
        "# Example of a dot product\n",
        "\n",
        "a = [1,2,3]\n",
        "b = [2,3,4]\n",
        "\n",
        "dot_product = a[0]*b[0] + a[1]*b[1] + a[2]*b[2]\n",
        "print(dot_product)\n",
        "\n",
        "# What happens if we call a \"inputs\" and b \"weights\""
      ],
      "metadata": {
        "id": "ANd3RvvlbbYq",
        "outputId": "e0f10c3e-e120-4f68-acc4-69ead4b2584e",
        "colab": {
          "base_uri": "https://localhost:8080/"
        }
      },
      "id": "ANd3RvvlbbYq",
      "execution_count": 6,
      "outputs": [
        {
          "output_type": "stream",
          "name": "stdout",
          "text": [
            "20\n"
          ]
        }
      ]
    },
    {
      "cell_type": "markdown",
      "source": [
        "If we consider the comment above now we can see that dot products seems like an easier way to perform the operations we did above to \"run\" our neural network"
      ],
      "metadata": {
        "id": "sK4gS-e_cC1s"
      },
      "id": "sK4gS-e_cC1s"
    },
    {
      "cell_type": "markdown",
      "source": [
        "# Neurons with NumPy now"
      ],
      "metadata": {
        "id": "TjimvS5dcST-"
      },
      "id": "TjimvS5dcST-"
    },
    {
      "cell_type": "code",
      "source": [
        "inputs = [1,2,3,2.5]\n",
        "weights = [0.2, 0.8, -0.5, 1.0]\n",
        "bias = 2\n",
        "\n",
        "outputs = np.dot(weights, inputs) + bias\n",
        "print(outputs)\n",
        "\n",
        "# This is for a single neuron so there is only one bias value"
      ],
      "metadata": {
        "id": "_v1F8P1gcBWc",
        "outputId": "23ee84c1-1c91-4f5a-fd51-71dde831f28e",
        "colab": {
          "base_uri": "https://localhost:8080/"
        }
      },
      "id": "_v1F8P1gcBWc",
      "execution_count": 9,
      "outputs": [
        {
          "output_type": "stream",
          "name": "stdout",
          "text": [
            "4.8\n"
          ]
        }
      ]
    },
    {
      "cell_type": "code",
      "source": [
        "# Layer of neurons\n",
        "\n",
        "inputs = [1,2,3,2.5]\n",
        "weights = [[.2, .8, -.5, 1],\n",
        "           [.5, - .91, .26, -.5],\n",
        "           [-.26, -.27, .17, .87]]\n",
        "\n",
        "bias = [2, 3, 0.5]\n",
        "\n",
        "# This addition only works for np arrays\n",
        "# With normal arrays it becoms concatenated\n",
        "layer_outputs = np.dot(weights, inputs) + bias\n",
        "\n",
        "# exploring how np.dot output looks\n",
        "\n",
        "# print(np.dot(weights, inputs))\n",
        "\n",
        "print(layer_outputs)"
      ],
      "metadata": {
        "id": "MxYKjKvXcR0S",
        "outputId": "c1378229-9078-435c-b25c-5e7b0a8ed426",
        "colab": {
          "base_uri": "https://localhost:8080/"
        }
      },
      "id": "MxYKjKvXcR0S",
      "execution_count": 14,
      "outputs": [
        {
          "output_type": "stream",
          "name": "stdout",
          "text": [
            "[4.8   1.21  2.385]\n"
          ]
        }
      ]
    },
    {
      "cell_type": "markdown",
      "source": [
        "for the inputs the shape would be: (4, ) and the type would be a 1D array/Vector."
      ],
      "metadata": {
        "id": "cvO6sKBidoS4"
      },
      "id": "cvO6sKBidoS4"
    },
    {
      "cell_type": "markdown",
      "source": [
        "What would dot product on a Matrix (2D array) be? Matrix Multiplication"
      ],
      "metadata": {
        "id": "krmJhRTNd5Ci"
      },
      "id": "krmJhRTNd5Ci"
    },
    {
      "cell_type": "markdown",
      "source": [
        "Transposition (written as a T superscript) modifies any vector/matrix so that the rows become columns and the columns become rows"
      ],
      "metadata": {
        "id": "k-wY3m_6eH-t"
      },
      "id": "k-wY3m_6eH-t"
    },
    {
      "cell_type": "code",
      "source": [],
      "metadata": {
        "id": "thB1hgJcc7ww"
      },
      "id": "thB1hgJcc7ww",
      "execution_count": null,
      "outputs": []
    }
  ],
  "metadata": {
    "kernelspec": {
      "display_name": "Python 3 (ipykernel)",
      "language": "python",
      "name": "python3"
    },
    "language_info": {
      "codemirror_mode": {
        "name": "ipython",
        "version": 3
      },
      "file_extension": ".py",
      "mimetype": "text/x-python",
      "name": "python",
      "nbconvert_exporter": "python",
      "pygments_lexer": "ipython3",
      "version": "3.11.7"
    },
    "colab": {
      "provenance": []
    }
  },
  "nbformat": 4,
  "nbformat_minor": 5
}