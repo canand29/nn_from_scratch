{
  "cells": [
    {
      "cell_type": "markdown",
      "source": [
        "# Attempting Hardcoded Neurons"
      ],
      "metadata": {
        "id": "aRB9zPwLaKfG"
      },
      "id": "aRB9zPwLaKfG"
    },
    {
      "cell_type": "code",
      "execution_count": null,
      "id": "e466e748-9dc9-4846-824b-7e6bf4a97bcf",
      "metadata": {
        "id": "e466e748-9dc9-4846-824b-7e6bf4a97bcf"
      },
      "outputs": [],
      "source": [
        "import matplotlib.pyplot as plt\n",
        "import numpy as np"
      ]
    },
    {
      "cell_type": "code",
      "execution_count": null,
      "id": "51be0f64",
      "metadata": {
        "id": "51be0f64"
      },
      "outputs": [],
      "source": [
        "inputs = [1,2,3]\n",
        "weights = [.2, .8, -.5]\n",
        "bias = 2"
      ]
    },
    {
      "cell_type": "code",
      "execution_count": null,
      "id": "13c08405",
      "metadata": {
        "id": "13c08405"
      },
      "outputs": [],
      "source": [
        "output = (inputs[0] * weights[0] +\n",
        "           inputs[1] * weights[1] +\n",
        "           inputs[2] * weights[2] + bias)"
      ]
    },
    {
      "cell_type": "code",
      "execution_count": null,
      "id": "39d900f1",
      "metadata": {
        "id": "39d900f1",
        "outputId": "65f800e3-7954-4b7a-b625-ca60b7bb713e"
      },
      "outputs": [
        {
          "name": "stdout",
          "output_type": "stream",
          "text": [
            "2.3\n"
          ]
        }
      ],
      "source": [
        "print(output)"
      ]
    },
    {
      "cell_type": "code",
      "execution_count": 1,
      "id": "b631629c",
      "metadata": {
        "id": "b631629c"
      },
      "outputs": [],
      "source": [
        "inputs = [1,2,3,2.5]\n",
        "weights = [[.2, .8, -.5, 1],\n",
        "           [.5, - .91, .26, -.5],\n",
        "           [-.26, -.27, .17, .87]]\n",
        "\n",
        "bias = [2, 3, 0.5]\n",
        "\n",
        "# Output of current layer\n",
        "layer_outputs = []\n",
        "# For each neuron\n",
        "for neuron_weights, neuron_bias in zip(weights, bias):\n",
        "    #ensuring output is zeroed\n",
        "    neuron_output = 0\n",
        "    for n_input, weight in zip(inputs, neuron_weights):\n",
        "        # Multiply input by weight and add to output\n",
        "        neuron_output += n_input * weight\n",
        "    # Add bias to output for neuron\n",
        "    neuron_output += neuron_bias\n",
        "    # Output neuron output\n",
        "    layer_outputs.append(neuron_output)"
      ]
    },
    {
      "cell_type": "code",
      "source": [
        "print (layer_outputs)"
      ],
      "metadata": {
        "id": "ypJn7p4NauQy",
        "outputId": "ca62ac5a-28fc-474c-f119-81c87a83303f",
        "colab": {
          "base_uri": "https://localhost:8080/"
        }
      },
      "id": "ypJn7p4NauQy",
      "execution_count": 2,
      "outputs": [
        {
          "output_type": "stream",
          "name": "stdout",
          "text": [
            "[4.8, 1.21, 2.385]\n"
          ]
        }
      ]
    }
  ],
  "metadata": {
    "kernelspec": {
      "display_name": "Python 3 (ipykernel)",
      "language": "python",
      "name": "python3"
    },
    "language_info": {
      "codemirror_mode": {
        "name": "ipython",
        "version": 3
      },
      "file_extension": ".py",
      "mimetype": "text/x-python",
      "name": "python",
      "nbconvert_exporter": "python",
      "pygments_lexer": "ipython3",
      "version": "3.11.7"
    },
    "colab": {
      "provenance": []
    }
  },
  "nbformat": 4,
  "nbformat_minor": 5
}