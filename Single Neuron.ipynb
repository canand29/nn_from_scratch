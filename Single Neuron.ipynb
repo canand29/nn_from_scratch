{
 "cells": [
  {
   "cell_type": "code",
   "execution_count": 5,
   "id": "e466e748-9dc9-4846-824b-7e6bf4a97bcf",
   "metadata": {},
   "outputs": [
    {
     "name": "stdout",
     "output_type": "stream",
     "text": [
      "Hello\n"
     ]
    }
   ],
   "source": [
    "import matplotlib.pyplot as plt\n",
    "import numpy as np"
   ]
  },
  {
   "cell_type": "code",
   "execution_count": 6,
   "id": "534e7b12",
   "metadata": {},
   "outputs": [],
   "source": [
    "inputs = [1,2,3]\n",
    "weights = [.2, .8, -.5]\n",
    "bias = 2"
   ]
  },
  {
   "cell_type": "code",
   "execution_count": null,
   "id": "9bef0ca3",
   "metadata": {},
   "outputs": [],
   "source": [
    "outputs = inputs()"
   ]
  }
 ],
 "metadata": {
  "kernelspec": {
   "display_name": "Python 3 (ipykernel)",
   "language": "python",
   "name": "python3"
  },
  "language_info": {
   "codemirror_mode": {
    "name": "ipython",
    "version": 3
   },
   "file_extension": ".py",
   "mimetype": "text/x-python",
   "name": "python",
   "nbconvert_exporter": "python",
   "pygments_lexer": "ipython3",
   "version": "3.11.7"
  }
 },
 "nbformat": 4,
 "nbformat_minor": 5
}
