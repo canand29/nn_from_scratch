{
  "cells": [
    {
      "cell_type": "markdown",
      "source": [
        "# Attempting Hardcoded Neurons"
      ],
      "metadata": {
        "id": "aRB9zPwLaKfG"
      },
      "id": "aRB9zPwLaKfG"
    },
    {
      "cell_type": "code",
      "execution_count": 2,
      "id": "e466e748-9dc9-4846-824b-7e6bf4a97bcf",
      "metadata": {
        "id": "e466e748-9dc9-4846-824b-7e6bf4a97bcf"
      },
      "outputs": [],
      "source": [
        "import matplotlib.pyplot as plt\n",
        "import numpy as np"
      ]
    },
    {
      "cell_type": "code",
      "execution_count": 3,
      "id": "51be0f64",
      "metadata": {
        "id": "51be0f64"
      },
      "outputs": [],
      "source": [
        "inputs = [1,2,3]\n",
        "weights = [.2, .8, -.5]\n",
        "bias = 2"
      ]
    },
    {
      "cell_type": "code",
      "execution_count": 4,
      "id": "13c08405",
      "metadata": {
        "id": "13c08405"
      },
      "outputs": [],
      "source": [
        "output = (inputs[0] * weights[0] +\n",
        "           inputs[1] * weights[1] +\n",
        "           inputs[2] * weights[2] + bias)"
      ]
    },
    {
      "cell_type": "code",
      "execution_count": 5,
      "id": "39d900f1",
      "metadata": {
        "id": "39d900f1",
        "outputId": "fe14910e-fa41-4a08-9030-f24f5eaaeaa4",
        "colab": {
          "base_uri": "https://localhost:8080/"
        }
      },
      "outputs": [
        {
          "output_type": "stream",
          "name": "stdout",
          "text": [
            "2.3\n"
          ]
        }
      ],
      "source": [
        "print(output)"
      ]
    },
    {
      "cell_type": "code",
      "execution_count": 6,
      "id": "b631629c",
      "metadata": {
        "id": "b631629c"
      },
      "outputs": [],
      "source": [
        "inputs = [1,2,3,2.5]\n",
        "weights = [[.2, .8, -.5, 1],\n",
        "           [.5, - .91, .26, -.5],\n",
        "           [-.26, -.27, .17, .87]]\n",
        "\n",
        "bias = [2, 3, 0.5]\n",
        "\n",
        "# Output of current layer\n",
        "layer_outputs = []\n",
        "# For each neuron\n",
        "for neuron_weights, neuron_bias in zip(weights, bias):\n",
        "    #ensuring output is zeroed\n",
        "    neuron_output = 0\n",
        "    for n_input, weight in zip(inputs, neuron_weights):\n",
        "        # Multiply input by weight and add to output\n",
        "        neuron_output += n_input * weight\n",
        "    # Add bias to output for neuron\n",
        "    neuron_output += neuron_bias\n",
        "    # Output neuron output\n",
        "    layer_outputs.append(neuron_output)"
      ]
    },
    {
      "cell_type": "code",
      "source": [
        "print (layer_outputs)"
      ],
      "metadata": {
        "colab": {
          "base_uri": "https://localhost:8080/"
        },
        "id": "ypJn7p4NauQy",
        "outputId": "31cf44fc-67c4-4bea-c651-15b7839f3ace"
      },
      "id": "ypJn7p4NauQy",
      "execution_count": 7,
      "outputs": [
        {
          "output_type": "stream",
          "name": "stdout",
          "text": [
            "[4.8, 1.21, 2.385]\n"
          ]
        }
      ]
    },
    {
      "cell_type": "markdown",
      "source": [
        "What is a tensor: A tensor is an object that can be represented as an array but tensors are not **just** arrays"
      ],
      "metadata": {
        "id": "mBIeFNWZbNxU"
      },
      "id": "mBIeFNWZbNxU"
    },
    {
      "cell_type": "markdown",
      "source": [
        "What is a dot product:\n",
        "The sum of products of consecutive vector elements"
      ],
      "metadata": {
        "id": "Or8QXg3mbk6c"
      },
      "id": "Or8QXg3mbk6c"
    },
    {
      "cell_type": "code",
      "source": [
        "# Example of a dot product\n",
        "\n",
        "a = [1,2,3]\n",
        "b = [2,3,4]\n",
        "\n",
        "dot_product = a[0]*b[0] + a[1]*b[1] + a[2]*b[2]\n",
        "print(dot_product)\n",
        "\n",
        "# What happens if we call a \"inputs\" and b \"weights\""
      ],
      "metadata": {
        "id": "ANd3RvvlbbYq",
        "outputId": "bedf9db7-62d9-42bf-d4b5-7ad8a4b2e2a3",
        "colab": {
          "base_uri": "https://localhost:8080/"
        }
      },
      "id": "ANd3RvvlbbYq",
      "execution_count": 8,
      "outputs": [
        {
          "output_type": "stream",
          "name": "stdout",
          "text": [
            "20\n"
          ]
        }
      ]
    },
    {
      "cell_type": "markdown",
      "source": [
        "If we consider the comment above now we can see that dot products seems like an easier way to perform the operations we did above to \"run\" our neural network"
      ],
      "metadata": {
        "id": "sK4gS-e_cC1s"
      },
      "id": "sK4gS-e_cC1s"
    },
    {
      "cell_type": "markdown",
      "source": [
        "# Neurons with NumPy now"
      ],
      "metadata": {
        "id": "TjimvS5dcST-"
      },
      "id": "TjimvS5dcST-"
    },
    {
      "cell_type": "code",
      "source": [
        "inputs = [1,2,3,2.5]\n",
        "weights = [0.2, 0.8, -0.5, 1.0]\n",
        "bias = 2\n",
        "\n",
        "outputs = np.dot(weights, inputs) + bias\n",
        "print(outputs)\n",
        "\n",
        "# This is for a single neuron so there is only one bias value"
      ],
      "metadata": {
        "id": "_v1F8P1gcBWc",
        "outputId": "a4e05f61-f049-49f5-ba31-01797cb964ba",
        "colab": {
          "base_uri": "https://localhost:8080/"
        }
      },
      "id": "_v1F8P1gcBWc",
      "execution_count": 9,
      "outputs": [
        {
          "output_type": "stream",
          "name": "stdout",
          "text": [
            "4.8\n"
          ]
        }
      ]
    },
    {
      "cell_type": "code",
      "source": [
        "# Layer of neurons\n",
        "\n",
        "inputs = [1,2,3,2.5]\n",
        "weights = [[.2, .8, -.5, 1],\n",
        "           [.5, - .91, .26, -.5],\n",
        "           [-.26, -.27, .17, .87]]\n",
        "\n",
        "bias = [2, 3, 0.5]\n",
        "\n",
        "# This addition only works for np arrays\n",
        "# With normal arrays it becoms concatenated\n",
        "layer_outputs = np.dot(weights, inputs) + bias\n",
        "\n",
        "# exploring how np.dot output looks\n",
        "\n",
        "# print(np.dot(weights, inputs))\n",
        "\n",
        "print(layer_outputs)"
      ],
      "metadata": {
        "id": "MxYKjKvXcR0S",
        "outputId": "7d3a03f2-7e16-4b1a-8195-6ebac59dac88",
        "colab": {
          "base_uri": "https://localhost:8080/"
        }
      },
      "id": "MxYKjKvXcR0S",
      "execution_count": 10,
      "outputs": [
        {
          "output_type": "stream",
          "name": "stdout",
          "text": [
            "[4.8   1.21  2.385]\n"
          ]
        }
      ]
    },
    {
      "cell_type": "markdown",
      "source": [
        "for the inputs the shape would be: (4, ) and the type would be a 1D array/Vector."
      ],
      "metadata": {
        "id": "cvO6sKBidoS4"
      },
      "id": "cvO6sKBidoS4"
    },
    {
      "cell_type": "markdown",
      "source": [
        "What would dot product on a Matrix (2D array) be? Matrix Multiplication"
      ],
      "metadata": {
        "id": "krmJhRTNd5Ci"
      },
      "id": "krmJhRTNd5Ci"
    },
    {
      "cell_type": "markdown",
      "source": [
        "Transposition (written as a T superscript) modifies any vector/matrix so that the rows become columns and the columns become rows"
      ],
      "metadata": {
        "id": "k-wY3m_6eH-t"
      },
      "id": "k-wY3m_6eH-t"
    },
    {
      "cell_type": "code",
      "source": [
        "a1 = np.array([[1,2,3]])\n",
        "# The double bracket is to make this a matrix that contains a single row\n",
        "\n",
        "a2 = [1,2,3]\n",
        "np.array([a2])\n",
        "# Same as a1\n",
        "\n",
        "a3 = [1,2,3]\n",
        "np.expand_dims(a3, axis=0)\n",
        "# np.expand_dims() adds a new dimension at the index of the axis"
      ],
      "metadata": {
        "id": "thB1hgJcc7ww",
        "outputId": "d92b1cc2-cf57-4848-8f2c-1e6c76bf2128",
        "colab": {
          "base_uri": "https://localhost:8080/"
        }
      },
      "id": "thB1hgJcc7ww",
      "execution_count": 16,
      "outputs": [
        {
          "output_type": "execute_result",
          "data": {
            "text/plain": [
              "array([[1, 2, 3]])"
            ]
          },
          "metadata": {},
          "execution_count": 16
        }
      ]
    },
    {
      "cell_type": "code",
      "source": [
        "a = [1,2,3]\n",
        "b = [2,3,4]\n",
        "\n",
        "a = np.array(a)\n",
        "b = np.array(b).T\n",
        "\n",
        "np.dot(a,b)\n",
        "\n",
        "# Is the same as\n",
        "# [1,2,3] * [2,\n",
        "#           3,\n",
        "#           4]\n",
        "#           = 1*2 + 2*3 + 3*4 = 20\n",
        "\n"
      ],
      "metadata": {
        "id": "1n-eX_aoMKQS",
        "outputId": "040f023c-ab49-49b9-a777-3f2d6265f424",
        "colab": {
          "base_uri": "https://localhost:8080/"
        }
      },
      "id": "1n-eX_aoMKQS",
      "execution_count": 20,
      "outputs": [
        {
          "output_type": "execute_result",
          "data": {
            "text/plain": [
              "20"
            ]
          },
          "metadata": {},
          "execution_count": 20
        }
      ]
    },
    {
      "cell_type": "markdown",
      "source": [
        "Have to make sure that the dimensions match for inputs and weights\n",
        "\n",
        "example:"
      ],
      "metadata": {
        "id": "VL-ecvNtOUco"
      },
      "id": "VL-ecvNtOUco"
    },
    {
      "cell_type": "code",
      "source": [
        "inputs = [[1.0,2.0,3.0,2.5],\n",
        "          [2.0,5.0,-1.0,2.0],\n",
        "          [-1.5,2.7,3.3,-0.8]]\n",
        "weights = [[0.2, 0.8, -0.5, 1.0],\n",
        "           [0.5, -0.91,.26, -0.5],\n",
        "           [-0.26, -0.27, 0.17, 0.87]]\n",
        "biases = [2, 3, 0.5]\n",
        "\n",
        "outputs = np.dot(inputs,np.array(weights).T) + biases\n",
        "print(outputs)"
      ],
      "metadata": {
        "id": "YZavGfFoNg-t",
        "outputId": "0a921f14-0330-4e5c-9156-7a1781783f6d",
        "colab": {
          "base_uri": "https://localhost:8080/"
        }
      },
      "id": "YZavGfFoNg-t",
      "execution_count": 22,
      "outputs": [
        {
          "output_type": "stream",
          "name": "stdout",
          "text": [
            "[[ 4.8    1.21   2.385]\n",
            " [ 8.9   -1.81   0.2  ]\n",
            " [ 1.41   1.051  0.026]]\n"
          ]
        }
      ]
    },
    {
      "cell_type": "markdown",
      "source": [
        "Our first parameter for np.dot will be our inputs then the second parameter would be our transposed weights. This is why even if we pass in a list of inputs we have a list of predictions even if there is only one prediction."
      ],
      "metadata": {
        "id": "kiuQ1_kZQ0g1"
      },
      "id": "kiuQ1_kZQ0g1"
    }
  ],
  "metadata": {
    "kernelspec": {
      "display_name": "Python 3 (ipykernel)",
      "language": "python",
      "name": "python3"
    },
    "language_info": {
      "codemirror_mode": {
        "name": "ipython",
        "version": 3
      },
      "file_extension": ".py",
      "mimetype": "text/x-python",
      "name": "python",
      "nbconvert_exporter": "python",
      "pygments_lexer": "ipython3",
      "version": "3.11.7"
    },
    "colab": {
      "provenance": []
    }
  },
  "nbformat": 4,
  "nbformat_minor": 5
}