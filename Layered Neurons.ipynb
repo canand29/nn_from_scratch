{
  "cells": [
    {
      "cell_type": "markdown",
      "metadata": {
        "id": "3EPhY1saUhw5"
      },
      "source": [
        "# Attempting Layered Neurons"
      ]
    },
    {
      "cell_type": "code",
      "execution_count": 1,
      "metadata": {
        "vscode": {
          "languageId": "plaintext"
        },
        "id": "ubQ2x05rUhw6"
      },
      "outputs": [],
      "source": [
        "import matplotlib.pyplot as plt\n",
        "import numpy as np"
      ]
    },
    {
      "cell_type": "code",
      "execution_count": 4,
      "metadata": {
        "vscode": {
          "languageId": "plaintext"
        },
        "id": "vAiAg5UIUhw6",
        "outputId": "bde1ce67-ae65-43f5-902f-113b599e5c4e",
        "colab": {
          "base_uri": "https://localhost:8080/"
        }
      },
      "outputs": [
        {
          "output_type": "stream",
          "name": "stdout",
          "text": [
            "[[ 0.5031  -1.04185 -2.03875]\n",
            " [ 0.2434  -2.7332  -5.7633 ]\n",
            " [-0.99314  1.41254 -0.35655]]\n"
          ]
        }
      ],
      "source": [
        "inputs = [[1.0,2.0,3.0,2.5],\n",
        "          [2.0,5.0,-1.0,2.0],\n",
        "          [-1.5,2.7,3.3,-0.8]]\n",
        "weights = [[0.2, 0.8, -0.5, 1.0],\n",
        "           [0.5, -0.91,.26, -0.5],\n",
        "           [-0.26, -0.27, 0.17, 0.87]]\n",
        "biases = [2, 3, 0.5]\n",
        "\n",
        "weights2 = [[0.1,-0.14,0.5],\n",
        "            [-0.5,0.12,-0.33],\n",
        "            [-0.44,0.73,-0.13]]\n",
        "\n",
        "biases2 = [-1,2,-0.5]\n",
        "\n",
        "layer1_output = np.dot(inputs,np.array(weights).T) + biases\n",
        "layer2_output = np.dot(layer1_output,np.array(weights2).T) + biases2\n",
        "\n",
        "print(layer2_output)\n",
        ""
      ]
    },
    {
      "cell_type": "markdown",
      "source": [
        "This netowrk can be visualized as 1 input layer with 4 neurons, a hidden layer as with 3 neurons, and then an output layer with 3 neurons."
      ],
      "metadata": {
        "id": "iQo5GJoDVmha"
      }
    },
    {
      "cell_type": "code",
      "source": [],
      "metadata": {
        "id": "q_C9GBYvV3lQ"
      },
      "execution_count": null,
      "outputs": []
    }
  ],
  "metadata": {
    "language_info": {
      "name": "python"
    },
    "colab": {
      "provenance": []
    },
    "kernelspec": {
      "name": "python3",
      "display_name": "Python 3"
    }
  },
  "nbformat": 4,
  "nbformat_minor": 0
}